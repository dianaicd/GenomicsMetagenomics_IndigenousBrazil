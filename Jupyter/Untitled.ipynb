{
 "cells": [
  {
   "cell_type": "markdown",
   "metadata": {},
   "source": [
    "# MAKE PCA plot based on bam file and reference panel\n",
    "### November 2012\n",
    "### maricugh@gmail.com\n",
    "### Update:\n",
    "### This pipeline was optimized July 2013 by Maria to\n",
    "### only filter out possible triallelic sites (most likely caused by sequence error)\n",
    "### and ignore the possibility of damage\n",
    "### ideally the bam files processed by this pipeline should have the base qualities\n",
    "### recalibrated by mapDamage2 which reduces the quality of mismatches likely caused by damages\n",
    "###\n",
    "###  ****Modified Dec 2016 by Maria for Viridiana\n",
    "###  added module loading, program names and few parsing commands"
   ]
  },
  {
   "cell_type": "code",
   "execution_count": null,
   "metadata": {
    "collapsed": true
   },
   "outputs": [],
   "source": [
    "###Adapted to LIIGH cluster\n",
    "\n",
    "#Your job name\n",
    "#$ -N make_evec\n",
    "#Use current working directory\n",
    "#$ -cwd\n",
    "\n",
    "#Join stdout and stderr\n",
    "#$ -j y\n",
    "# Run job through bash shell\n",
    "#$ -S /bin/bash\n",
    "\n",
    "#Send an email after the job has finished\n",
    "##$ -m e\n",
    "##$ -M villa.islas.vi@gmail.com\n",
    "\n",
    "#If modules are needed, source modules environment (Do not delete the next line):\n",
    "##. /etc/profile.d/modules.sh\n",
    "\n"
   ]
  },
  {
   "cell_type": "code",
   "execution_count": null,
   "metadata": {
    "collapsed": true
   },
   "outputs": [],
   "source": [
    "### Arguments are \n",
    "### $1=bam file\n",
    "### $2=plink file basename\n",
    "### $3=path to reference genome. IMPORTANT - this reference has to be in order, i.e. chr1 chr2 chr3 etc\n",
    "\n",
    "file=$1\n",
    "\n",
    "##module load plink/1.07  \n",
    "##module load samtools/1.2\n",
    "module add UHTS/Analysis/samtools/1.3\n",
    "module add UHTS/Analysis/plink/1.90\n",
    "\n",
    "samtools index $file  \n",
    "base=`basename $file .bam`\n",
    "\n"
   ]
  },
  {
   "cell_type": "code",
   "execution_count": null,
   "metadata": {
    "collapsed": true
   },
   "outputs": [],
   "source": [
    "##Skip triallelic sites\n",
    "\n",
    "awk '{printf $1\" \"$2\" \"$3\" \"$4\" \"$5\" \"$6; for (i=7; i<=NF; i=i+2){x=int(.5 + rand()); printf (\" \"$(i+x)\" \"$(i+x));} print \"\" }' $2.ped > $2.rand.ped\n",
    "cp $2.map $2.rand.map\n",
    "\n",
    "#For bam file generates an mpileup file with the chr positions indicated in $2.pos and takes one allele randomly for each of the positions.\n",
    "\n",
    "samtools mpileup -f $3  -l $2.pos $file | get_random_allele_30.pl > $base.Q20.rand.mpileup\n",
    "\n"
   ]
  },
  {
   "cell_type": "code",
   "execution_count": null,
   "metadata": {
    "collapsed": true
   },
   "outputs": [],
   "source": []
  },
  {
   "cell_type": "code",
   "execution_count": null,
   "metadata": {
    "collapsed": true
   },
   "outputs": [],
   "source": [
    "########################################Make tfam, tped and map files for sample############################################\n",
    "############################################################################################################################\n",
    "\n",
    "#tped file is generated with the chr and position coordinates followed by the homozygous allele.\n",
    "overlap_mpileup_tped.pl  $2.rand.map $base.Q20.rand.mpileup > $base.$2.tped\n",
    "\n",
    "\n",
    "###Prints a map file with only the coordinates of the overlapping positions in the mpileup file.\n",
    "overlap_mpileup_map.pl $2.rand.map $base.Q20.rand.mpileup  > $base.$2.map\n",
    "\n",
    "###Generates a fam file for the sample\n",
    "echo \"$base $base 0 0 3 1\" > $base.$2.tfam\n",
    "\n",
    " \n",
    "##Generates file tped.ids with the SNPs ids to be extracted from the reference\n",
    "cut -f2 $base.$2.tped > $base.$2.tped.ids\n",
    "\n",
    "###Extracts only the information for the SNPs indicated in tped.ids\n",
    "plink --bfile $2 --extract $base.$2.tped.ids --make-bed --out $base.preFilt_sites --allow-no-sex\n",
    "\n"
   ]
  },
  {
   "cell_type": "code",
   "execution_count": null,
   "metadata": {
    "collapsed": true
   },
   "outputs": [],
   "source": [
    "\n",
    "###Generates a map file for the sites extracted using only the coordinates for homozygous\n",
    "paste $base.preFilt_sites.bim $base.$2.tped | nice awk '{if ((($5 ~ /[A]/ || $6 ~ /[A]/) && $11 ~ /[A]/) || ( ($5 ~ /[C]/ || $6 ~ /[C]/) && $11 ~ /C/) || (($5 ~ /[G]/ || $6 ~ /[G]/) && $11 ~ /G/ ) || (($5 ~ /[T]/ || $6 ~ /[T]/) && $11 ~ /[T]/)) print $1,$2,$3,$4}' > $base.filt_sites.map \n"
   ]
  },
  {
   "cell_type": "code",
   "execution_count": null,
   "metadata": {
    "collapsed": true
   },
   "outputs": [],
   "source": [
    "\n",
    "##Generates a file with the SNPs for the extraction of the overlapping positions in the reference panel and in the sample\n",
    "cut -f2 -d ' ' $base.filt_sites.map > $base.filt_sites.map.ids\n",
    " \n",
    "###Extracts only the overlapping positions in the sample tfile\t\n",
    "plink --tfile $base.$2 --extract $base.filt_sites.map.ids --recode --out $base.$2.filt_sites\n",
    "\n",
    "\n",
    "###Extracts only the overlapping positions in the reference file\n",
    "plink --file $2.rand --extract $base.filt_sites.map.ids --recode --out $base\\_extract\n",
    "\n",
    "\n",
    "##Merge the information of the sample and reference plink files that contain only the overlapping sites \n",
    "plink --file $base.$2.filt_sites --merge $base\\_extract.ped $base\\_extract.map --recode --out $base.filtSites\\_MERGED --allow-no-sex\n",
    "\n",
    "\n"
   ]
  },
  {
   "cell_type": "code",
   "execution_count": null,
   "metadata": {
    "collapsed": true
   },
   "outputs": [],
   "source": [
    "### BUILD PARFILES and run pca file\n",
    "\n",
    "##module load eigensoft/6.0.1.1\n",
    "module add EcologyEvolution/eigensoft/6.1.4\n",
    "\n",
    "mapfile=$base.filtSites\\_MERGED.map\n",
    "mapbase=`basename $mapfile .map`\n",
    "sed -i 's/ -9 / 1 /g' $mapbase.ped\n",
    "samplename=`echo $base |cut -f1 -d '.'|cut -f1 -d'_'` ###This depends on the name of your bam file. \n",
    "sed -i 's/'$base'/'$samplename'/g' $mapbase.ped ###This also depends on the name of your bam file and your sample.\n",
    "\n",
    "\n",
    "###Generates a text file (.par) that indicates the file names where the information are contained:\n",
    "echo -e  genotypename: $mapbase.ped\"\\n\"snpname: $mapfile\"\\n\"indivname: $mapbase.ped\"\\n\"evecoutname: $mapbase.evec\"\\n\"evaloutname: $mapbase.eval\"\\n\"numoutlieriter: 0 > $mapbase.par\n",
    "\n",
    "\n",
    "##Prints the following line to keep track of the files processed\n",
    "echo \"smartpca -p $mapbase.par > $mapbase.out\"\n",
    "\n",
    "##Call smpartpca program, input file is .par generated in the command above. This command generates the files: .evec, .eval and .out. \n",
    "\n",
    "smartpca -p $mapbase.par > $mapbase.out\n",
    "\n",
    "###To make the plot of the PCA you will need the .evec and .eval files generated\n",
    "\n",
    "\n",
    "\n",
    "exit;\n"
   ]
  },
  {
   "cell_type": "code",
   "execution_count": null,
   "metadata": {
    "collapsed": true
   },
   "outputs": [],
   "source": []
  },
  {
   "cell_type": "code",
   "execution_count": null,
   "metadata": {
    "collapsed": true
   },
   "outputs": [],
   "source": []
  },
  {
   "cell_type": "code",
   "execution_count": null,
   "metadata": {
    "collapsed": true
   },
   "outputs": [],
   "source": []
  },
  {
   "cell_type": "code",
   "execution_count": null,
   "metadata": {
    "collapsed": true
   },
   "outputs": [],
   "source": []
  },
  {
   "cell_type": "code",
   "execution_count": null,
   "metadata": {
    "collapsed": true
   },
   "outputs": [],
   "source": []
  }
 ],
 "metadata": {
  "anaconda-cloud": {},
  "kernelspec": {
   "display_name": "Python [Root]",
   "language": "python",
   "name": "Python [Root]"
  },
  "language_info": {
   "codemirror_mode": {
    "name": "ipython",
    "version": 3
   },
   "file_extension": ".py",
   "mimetype": "text/x-python",
   "name": "python",
   "nbconvert_exporter": "python",
   "pygments_lexer": "ipython3",
   "version": "3.5.2"
  }
 },
 "nbformat": 4,
 "nbformat_minor": 2
}
